{
 "cells": [
  {
   "cell_type": "markdown",
   "metadata": {},
   "source": [
    "# Gradient Descent and Cost Function\n",
    "\n",
    "Normally we have a function and the x values for example, to compute y, like\n",
    "$$\n",
    "x = [1, 2, 3, 4, 5]\n",
    "$$\n",
    "$$\n",
    "y  = 2x + 3\n",
    "$$\n",
    "results in\n",
    "$$\n",
    "y = [5, 7, 9, 11, 13]\n",
    "$$\n",
    "\n",
    "But in machine learning, we normally have the data x and the results already, and want to come up with a function that can give a good estimate of future data. So we have the data x and y, and want to find the function that best fits the data."
   ]
  }
 ],
 "metadata": {
  "language_info": {
   "name": "python"
  }
 },
 "nbformat": 4,
 "nbformat_minor": 2
}
