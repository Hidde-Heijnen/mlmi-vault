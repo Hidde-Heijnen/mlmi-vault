{
 "cells": [
  {
   "cell_type": "markdown",
   "metadata": {},
   "source": [
    "# Gradient Descent and Cost Function\n",
    "\n",
    "Normally we have a function and the x values for example, to compute y, like\n",
    "$$\n",
    "x = [1, 2, 3, 4, 5]\n",
    "y  = 2x + 3\n",
    "$$\n",
    "results in\n",
    "$$\n",
    "y = [5, 7, 9, 11, 13]\n",
    "$$"
   ]
  }
 ],
 "metadata": {
  "language_info": {
   "name": "python"
  }
 },
 "nbformat": 4,
 "nbformat_minor": 2
}
