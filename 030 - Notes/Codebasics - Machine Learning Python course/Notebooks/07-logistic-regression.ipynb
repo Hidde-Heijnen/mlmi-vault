{
 "cells": [
  {
   "cell_type": "markdown",
   "metadata": {},
   "source": [
    "# Logistic Regression\n",
    "\n",
    "Up to now, we have seen how to implement a simple linear regression model. This is where the predicted value is continuous. But what if we want to predict a binary outcome? For example, whether an email is spam or not spam, whether a tumor is malignant or benign, whether a student will pass or fail an exam, if someone will vote democratic, republican or independent etc. In this case, we use logistic regression.\n",
    "\n",
    "If the answer is boolean we call it binary logistic regression. If the answer can be one of many answers, we call it multiclass.\n",
    "\n",
    "Sigmoid function converts input into range 0 to 1. It is defined as:\n",
    "\n",
    "$$\\sigma(x) = \\frac{1}{1 + e^{-x}}$$\n",
    "for example\n",
    "$$y = \\frac{1}{1 + e^{-(m*x+b)}}$$\n"
   ]
  }
 ],
 "metadata": {
  "language_info": {
   "name": "python"
  }
 },
 "nbformat": 4,
 "nbformat_minor": 2
}
